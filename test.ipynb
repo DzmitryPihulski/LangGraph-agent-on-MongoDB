{
 "cells": [
  {
   "cell_type": "code",
   "execution_count": null,
   "metadata": {},
   "outputs": [],
   "source": [
    "import urllib.request as r\n",
    "from bs4 import BeautifulSoup as bs\n",
    "import json\n",
    "\n",
    "url = r.urlopen(\"https://raw.githubusercontent.com/neelabalan/mongodb-sample-dataset/refs/heads/main/sample_airbnb/listingsAndReviews.json\")\n",
    "content = url.read()\n",
    "soup = bs(content)\n",
    "# print(soup)\n",
    "newDictionary=json.loads(str(soup)[15:-19].replace(\"\\n\", \",\"))"
   ]
  }
 ],
 "metadata": {
  "kernelspec": {
   "display_name": "Python 3",
   "language": "python",
   "name": "python3"
  },
  "language_info": {
   "codemirror_mode": {
    "name": "ipython",
    "version": 3
   },
   "file_extension": ".py",
   "mimetype": "text/x-python",
   "name": "python",
   "nbconvert_exporter": "python",
   "pygments_lexer": "ipython3",
   "version": "3.11.4"
  }
 },
 "nbformat": 4,
 "nbformat_minor": 2
}
