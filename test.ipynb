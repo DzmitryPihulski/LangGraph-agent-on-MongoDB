{
 "cells": [
  {
   "cell_type": "code",
   "execution_count": 13,
   "metadata": {},
   "outputs": [],
   "source": [
    "import json\n",
    "import urllib.request\n",
    "\n",
    "# URL to the JSON file\n",
    "url = \"https://raw.githubusercontent.com/neelabalan/mongodb-sample-dataset/refs/heads/main/sample_airbnb/listingsAndReviews.json\"\n",
    "\n",
    "# Download and read the data\n",
    "response = urllib.request.urlopen(url)\n",
    "data = response.read().decode(\"utf-8\")\n",
    "\n",
    "json_objects = data.strip().split(\"\\n\")\n",
    "\n",
    "# Parse each JSON object separately\n",
    "parsed_data = [json.loads(obj) for obj in json_objects]\n",
    "\n"
   ]
  }
 ],
 "metadata": {
  "kernelspec": {
   "display_name": ".venv",
   "language": "python",
   "name": "python3"
  },
  "language_info": {
   "codemirror_mode": {
    "name": "ipython",
    "version": 3
   },
   "file_extension": ".py",
   "mimetype": "text/x-python",
   "name": "python",
   "nbconvert_exporter": "python",
   "pygments_lexer": "ipython3",
   "version": "3.10.0"
  }
 },
 "nbformat": 4,
 "nbformat_minor": 2
}
